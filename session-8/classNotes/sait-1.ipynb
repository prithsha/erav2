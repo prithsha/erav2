{
 "cells": [
  {
   "cell_type": "code",
   "execution_count": 1,
   "metadata": {},
   "outputs": [],
   "source": [
    "from __future__ import print_function\n",
    "import torch\n",
    "import torch.nn as nn\n",
    "import torch.nn.functional as F\n",
    "import torch.optim as optim\n",
    "from torchvision import datasets, transforms\n",
    "import os\n",
    "os.environ['KMP_DUPLICATE_LIB_OK']='True'"
   ]
  },
  {
   "cell_type": "code",
   "execution_count": 2,
   "metadata": {},
   "outputs": [],
   "source": [
    "# Train Phase transformations\n",
    "train_transforms = transforms.Compose([\n",
    "                                      #  transforms.Resize((28, 28)),\n",
    "                                      #  transforms.ColorJitter(brightness=0.10, contrast=0.1, saturation=0.10, hue=0.1),\n",
    "                                       transforms.RandomCrop(32, padding=4, padding_mode='reflect'),\n",
    "                                       transforms.RandomHorizontalFlip(),\n",
    "                                       transforms.RandomRotation(15),\n",
    "                                       transforms.ToTensor(),\n",
    "                                       transforms.Normalize((0.4914, 0.4822, 0.4465), (0.2023, 0.1994, 0.2010)) # The mean and std have to be sequences (e.g., tuples), therefore you should add a comma after the values. \n",
    "                                       # Note the difference between (0.1307) and (0.1307,)\n",
    "                                       ])\n",
    "\n",
    "# Test Phase transformations\n",
    "test_transforms = transforms.Compose([\n",
    "                                      #  transforms.Resize((28, 28)),\n",
    "                                      #  transforms.ColorJitter(brightness=0.10, contrast=0.1, saturation=0.10, hue=0.1),\n",
    "                                       transforms.ToTensor(),\n",
    "                                       transforms.Normalize((0.4914, 0.4822, 0.4465), (0.2023, 0.1994, 0.2010))\n",
    "                                       ])\n"
   ]
  },
  {
   "cell_type": "code",
   "execution_count": 3,
   "metadata": {},
   "outputs": [
    {
     "name": "stdout",
     "output_type": "stream",
     "text": [
      "Downloading https://www.cs.toronto.edu/~kriz/cifar-10-python.tar.gz to ./data\\cifar-10-python.tar.gz\n"
     ]
    },
    {
     "name": "stderr",
     "output_type": "stream",
     "text": [
      "100%|██████████| 170498071/170498071 [00:15<00:00, 10686365.31it/s]\n"
     ]
    },
    {
     "name": "stdout",
     "output_type": "stream",
     "text": [
      "Extracting ./data\\cifar-10-python.tar.gz to ./data\n",
      "Files already downloaded and verified\n"
     ]
    }
   ],
   "source": [
    "train = datasets.CIFAR10(root='./data', train=True,\n",
    "                                        download=True, transform=train_transforms)\n",
    "test = datasets.CIFAR10(root='./data', train=False,\n",
    "                                       download=True, transform=test_transforms)"
   ]
  },
  {
   "cell_type": "code",
   "execution_count": 4,
   "metadata": {},
   "outputs": [
    {
     "name": "stdout",
     "output_type": "stream",
     "text": [
      "CUDA Available? True\n"
     ]
    }
   ],
   "source": [
    "SEED = 1\n",
    "\n",
    "# CUDA?\n",
    "cuda = torch.cuda.is_available()\n",
    "print(\"CUDA Available?\", cuda)\n",
    "\n",
    "# For reproducibility\n",
    "torch.manual_seed(SEED)\n",
    "\n",
    "if cuda:\n",
    "    torch.cuda.manual_seed(SEED)\n",
    "\n",
    "# dataloader arguments - something you'll fetch these from cmdprmt\n",
    "dataloader_args = dict(shuffle=True, batch_size=512, num_workers=4, pin_memory=True) if cuda else dict(shuffle=True, batch_size=64)\n",
    "\n",
    "# train dataloader\n",
    "train_loader = torch.utils.data.DataLoader(train, **dataloader_args)\n",
    "\n",
    "# test dataloader\n",
    "test_loader = torch.utils.data.DataLoader(test, **dataloader_args)"
   ]
  },
  {
   "cell_type": "code",
   "execution_count": 5,
   "metadata": {},
   "outputs": [
    {
     "name": "stderr",
     "output_type": "stream",
     "text": [
      "Clipping input data to the valid range for imshow with RGB data ([0..1] for floats or [0..255] for integers).\n"
     ]
    },
    {
     "data": {
      "image/png": "[encoded data removed]",
      "text/plain": [
       "<Figure size 640x480 with 1 Axes>"
      ]
     },
     "metadata": {},
     "output_type": "display_data"
    },
    {
     "name": "stdout",
     "output_type": "stream",
     "text": [
      "ship  bird  cat   dog  \n"
     ]
    }
   ],
   "source": [
    "import matplotlib.pyplot as plt\n",
    "import numpy as np\n",
    "\n",
    "# functions to show an image\n",
    "\n",
    "\n",
    "def imshow(img):\n",
    "    img = img / 2 + 0.5     # unnormalize\n",
    "    npimg = img.numpy()\n",
    "    plt.imshow(np.transpose(npimg, (1, 2, 0)))\n",
    "    plt.show()\n",
    "\n",
    "\n",
    "# get some random training images\n",
    "dataiter = iter(train_loader)\n",
    "images, labels = next(dataiter)\n",
    "classes = ('plane', 'car', 'bird', 'cat',\n",
    "           'deer', 'dog', 'frog', 'horse', 'ship', 'truck')\n",
    "\n",
    "import torchvision\n",
    "# show images\n",
    "imshow(torchvision.utils.make_grid(images[:4]))\n",
    "# print labels\n",
    "print(' '.join(f'{classes[labels[j]]:5s}' for j in range(4)))"
   ]
  },
  {
   "cell_type": "code",
   "execution_count": 6,
   "metadata": {},
   "outputs": [],
   "source": [
    "import torch.nn.functional as F\n",
    "dropout_value = 0.1\n",
    "class Net(nn.Module):\n",
    "    def __init__(self):\n",
    "        super(Net, self).__init__()\n",
    "        # CONVOLUTION BLOCK 1 input 32/1/1\n",
    "        self.convblock1 = nn.Sequential(\n",
    "            nn.Conv2d(in_channels=3, out_channels=32, kernel_size=(7, 7), padding=3, bias=False),\n",
    "            nn.ReLU(),\n",
    "            nn.BatchNorm2d(32),\n",
    "            nn.Dropout(dropout_value)\n",
    "        ) # output_size = 32/3\n",
    "\n",
    "        \n",
    "        self.convblock2 = nn.Sequential(\n",
    "            nn.Conv2d(in_channels=32, out_channels=32, kernel_size=(3, 3), padding=1, bias=False),\n",
    "            nn.ReLU(),\n",
    "            nn.BatchNorm2d(32),\n",
    "            nn.Dropout(dropout_value)\n",
    "        ) # output_size = 32/5\n",
    "\n",
    "        # TRANSITION BLOCK 1\n",
    "        self.convblock3 = nn.Sequential(\n",
    "            nn.Conv2d(in_channels=32, out_channels=16, kernel_size=(1, 1), padding=0, bias=False),\n",
    "        ) # output_size = 32/5\n",
    "        self.pool1 = nn.MaxPool2d(2, 2) # output_size = 16/6/2\n",
    "\n",
    "        # CONVOLUTION BLOCK 2\n",
    "        self.convblock4 = nn.Sequential(\n",
    "            nn.Conv2d(in_channels=16, out_channels=32, kernel_size=(3, 3), padding=1, bias=False),\n",
    "            nn.ReLU(),            \n",
    "            nn.BatchNorm2d(32),\n",
    "            nn.Dropout(dropout_value)\n",
    "        ) # output_size = 16/10/2\n",
    "\n",
    "        self.convblock5 = nn.Sequential(\n",
    "            nn.Conv2d(in_channels=32, out_channels=32, kernel_size=(3, 3), padding=1, bias=False),\n",
    "            nn.ReLU(),            \n",
    "            nn.BatchNorm2d(32),\n",
    "            nn.Dropout(dropout_value)\n",
    "        ) # output_size = 16/14/2\n",
    "\n",
    "        # TRANSITION BLOCK 2\n",
    "        self.convblock6 = nn.Sequential(\n",
    "            nn.Conv2d(in_channels=32, out_channels=16, kernel_size=(1, 1), padding=0, bias=False),\n",
    "        ) # output_size = 16/14/2\n",
    "        self.pool2 = nn.MaxPool2d(2, 2) # output_size = 8/16/4\n",
    "\n",
    "        self.convblock7 = nn.Sequential(\n",
    "            nn.Conv2d(in_channels=16, out_channels=32, kernel_size=(3, 3), padding=1, bias=False),\n",
    "            nn.ReLU(),            \n",
    "            nn.BatchNorm2d(32),\n",
    "            nn.Dropout(dropout_value)\n",
    "        ) # output_size = 8/24/4\n",
    "        self.convblock8 = nn.Sequential(\n",
    "            nn.Conv2d(in_channels=32, out_channels=32, kernel_size=(3, 3), padding=0, bias=False),\n",
    "            nn.ReLU(),            \n",
    "            nn.BatchNorm2d(32),\n",
    "            nn.Dropout(dropout_value)\n",
    "        ) # output_size = 6/32/4\n",
    "\n",
    "        self.convblock9 = nn.Sequential(\n",
    "            nn.Conv2d(in_channels=32, out_channels=32, kernel_size=(3, 3), padding=0, bias=False),\n",
    "            nn.ReLU(),            \n",
    "            nn.BatchNorm2d(32),\n",
    "            nn.Dropout(dropout_value)\n",
    "        ) # output_size = 4/40/4\n",
    "        \n",
    "        # OUTPUT BLOCK\n",
    "        self.gap = nn.Sequential(\n",
    "            nn.AvgPool2d(kernel_size=4)\n",
    "        ) # output_size = 1\n",
    "\n",
    "        self.convblock10 = nn.Sequential(\n",
    "            nn.Conv2d(in_channels=32, out_channels=10, kernel_size=(1, 1), padding=0, bias=False),\n",
    "            # nn.BatchNorm2d(10),\n",
    "            # nn.ReLU(),\n",
    "            # nn.Dropout(dropout_value)\n",
    "        ) \n",
    "\n",
    "\n",
    "        self.dropout = nn.Dropout(dropout_value)\n",
    "\n",
    "    def forward(self, x):\n",
    "        x = self.convblock1(x)\n",
    "        x = x + self.convblock2(x)\n",
    "        x = self.convblock3(x)\n",
    "        x = self.pool1(x)\n",
    "        x = self.convblock4(x)\n",
    "        x = x + self.convblock5(x)\n",
    "        x = self.convblock6(x)\n",
    "        x = self.pool1(x)\n",
    "        x = self.convblock7(x)\n",
    "        x = self.convblock8(x)\n",
    "        x = self.convblock9(x)\n",
    "        x = self.gap(x)        \n",
    "        x = self.convblock10(x)\n",
    "\n",
    "        x = x.view(-1, 10)\n",
    "        return F.log_softmax(x, dim=-1)"
   ]
  },
  {
   "cell_type": "code",
   "execution_count": 7,
   "metadata": {},
   "outputs": [
    {
     "name": "stdout",
     "output_type": "stream",
     "text": [
      "Requirement already satisfied: torchsummary in c:\\users\\1430647\\anaconda3\\lib\\site-packages (1.5.1)\n",
      "cuda\n"
     ]
    },
    {
     "name": "stderr",
     "output_type": "stream",
     "text": [
      "WARNING: Error parsing requirements for cython: [Errno 2] No such file or directory: 'c:\\\\users\\\\1430647\\\\anaconda3\\\\lib\\\\site-packages\\\\Cython-0.29.21.dist-info\\\\METADATA'\n",
      "WARNING: Error parsing requirements for flask: [Errno 2] No such file or directory: 'c:\\\\users\\\\1430647\\\\anaconda3\\\\lib\\\\site-packages\\\\Flask-1.1.2.dist-info\\\\METADATA'\n",
      "WARNING: Error parsing requirements for heapdict: [Errno 2] No such file or directory: 'c:\\\\users\\\\1430647\\\\anaconda3\\\\lib\\\\site-packages\\\\HeapDict-1.0.1.dist-info\\\\METADATA'\n",
      "WARNING: Error parsing requirements for jinja2: [Errno 2] No such file or directory: 'c:\\\\users\\\\1430647\\\\anaconda3\\\\lib\\\\site-packages\\\\Jinja2-2.11.2.dist-info\\\\METADATA'\n",
      "WARNING: Error parsing requirements for markupsafe: [Errno 2] No such file or directory: 'c:\\\\users\\\\1430647\\\\anaconda3\\\\lib\\\\site-packages\\\\MarkupSafe-1.1.1.dist-info\\\\METADATA'\n",
      "WARNING: Error parsing requirements for pillow: [Errno 2] No such file or directory: 'c:\\\\users\\\\1430647\\\\anaconda3\\\\lib\\\\site-packages\\\\Pillow-8.0.1.dist-info\\\\METADATA'\n",
      "WARNING: Error parsing requirements for pynacl: [Errno 2] No such file or directory: 'c:\\\\users\\\\1430647\\\\anaconda3\\\\lib\\\\site-packages\\\\PyNaCl-1.4.0.dist-info\\\\METADATA'\n",
      "WARNING: Error parsing requirements for qdarkstyle: [Errno 2] No such file or directory: 'c:\\\\users\\\\1430647\\\\anaconda3\\\\lib\\\\site-packages\\\\QDarkStyle-2.8.1.dist-info\\\\METADATA'\n",
      "WARNING: Error parsing requirements for qtawesome: [Errno 2] No such file or directory: 'c:\\\\users\\\\1430647\\\\anaconda3\\\\lib\\\\site-packages\\\\QtAwesome-1.0.1.dist-info\\\\METADATA'\n",
      "WARNING: Error parsing requirements for qtpy: [Errno 2] No such file or directory: 'c:\\\\users\\\\1430647\\\\anaconda3\\\\lib\\\\site-packages\\\\QtPy-1.9.0.dist-info\\\\METADATA'\n",
      "WARNING: Error parsing requirements for rtree: [Errno 2] No such file or directory: 'c:\\\\users\\\\1430647\\\\anaconda3\\\\lib\\\\site-packages\\\\Rtree-0.9.4.dist-info\\\\METADATA'\n",
      "WARNING: Error parsing requirements for sqlalchemy: [Errno 2] No such file or directory: 'c:\\\\users\\\\1430647\\\\anaconda3\\\\lib\\\\site-packages\\\\SQLAlchemy-1.3.20.dist-info\\\\METADATA'\n",
      "WARNING: Error parsing requirements for sphinx: [Errno 2] No such file or directory: 'c:\\\\users\\\\1430647\\\\anaconda3\\\\lib\\\\site-packages\\\\Sphinx-3.2.1.dist-info\\\\METADATA'\n",
      "WARNING: Error parsing requirements for werkzeug: [Errno 2] No such file or directory: 'c:\\\\users\\\\1430647\\\\anaconda3\\\\lib\\\\site-packages\\\\Werkzeug-1.0.1.dist-info\\\\METADATA'\n",
      "WARNING: Error parsing requirements for xlsxwriter: [Errno 2] No such file or directory: 'c:\\\\users\\\\1430647\\\\anaconda3\\\\lib\\\\site-packages\\\\XlsxWriter-1.3.7.dist-info\\\\METADATA'\n",
      "WARNING: Error parsing requirements for alabaster: [Errno 2] No such file or directory: 'c:\\\\users\\\\1430647\\\\anaconda3\\\\lib\\\\site-packages\\\\alabaster-0.7.12.dist-info\\\\METADATA'\n",
      "WARNING: Error parsing requirements for anaconda-project: [Errno 2] No such file or directory: 'c:\\\\users\\\\1430647\\\\anaconda3\\\\lib\\\\site-packages\\\\anaconda_project-0.8.3.dist-info\\\\METADATA'\n",
      "WARNING: Error parsing requirements for argon2-cffi: [Errno 2] No such file or directory: 'c:\\\\users\\\\1430647\\\\anaconda3\\\\lib\\\\site-packages\\\\argon2_cffi-20.1.0.dist-info\\\\METADATA'\n",
      "WARNING: Error parsing requirements for asn1crypto: [Errno 2] No such file or directory: 'c:\\\\users\\\\1430647\\\\anaconda3\\\\lib\\\\site-packages\\\\asn1crypto-1.4.0.dist-info\\\\METADATA'\n",
      "WARNING: Error parsing requirements for astroid: [Errno 2] No such file or directory: 'c:\\\\users\\\\1430647\\\\anaconda3\\\\lib\\\\site-packages\\\\astroid-2.4.2.dist-info\\\\METADATA'\n",
      "WARNING: Error parsing requirements for async-generator: [Errno 2] No such file or directory: 'c:\\\\users\\\\1430647\\\\anaconda3\\\\lib\\\\site-packages\\\\async_generator-1.10.dist-info\\\\METADATA'\n",
      "WARNING: Error parsing requirements for atomicwrites: [Errno 2] No such file or directory: 'c:\\\\users\\\\1430647\\\\anaconda3\\\\lib\\\\site-packages\\\\atomicwrites-1.4.0.dist-info\\\\METADATA'\n",
      "WARNING: Error parsing requirements for attrs: [Errno 2] No such file or directory: 'c:\\\\users\\\\1430647\\\\anaconda3\\\\lib\\\\site-packages\\\\attrs-20.3.0.dist-info\\\\METADATA'\n",
      "WARNING: Error parsing requirements for autopep8: [Errno 2] No such file or directory: 'c:\\\\users\\\\1430647\\\\anaconda3\\\\lib\\\\site-packages\\\\autopep8-1.5.4.dist-info\\\\METADATA'\n",
      "WARNING: Error parsing requirements for backports-functools-lru-cache: [Errno 2] No such file or directory: 'c:\\\\users\\\\1430647\\\\anaconda3\\\\lib\\\\site-packages\\\\backports.functools_lru_cache-1.6.1.dist-info\\\\METADATA'\n",
      "WARNING: Error parsing requirements for backports-shutil-get-terminal-size: [Errno 2] No such file or directory: 'c:\\\\users\\\\1430647\\\\anaconda3\\\\lib\\\\site-packages\\\\backports.shutil_get_terminal_size-1.0.0.dist-info\\\\METADATA'\n",
      "WARNING: Error parsing requirements for bcrypt: [Errno 2] No such file or directory: 'c:\\\\users\\\\1430647\\\\anaconda3\\\\lib\\\\site-packages\\\\bcrypt-3.2.0.dist-info\\\\METADATA'\n",
      "WARNING: Error parsing requirements for bitarray: [Errno 2] No such file or directory: 'c:\\\\users\\\\1430647\\\\anaconda3\\\\lib\\\\site-packages\\\\bitarray-1.6.1.dist-info\\\\METADATA'\n",
      "WARNING: Error parsing requirements for bleach: [Errno 2] No such file or directory: 'c:\\\\users\\\\1430647\\\\anaconda3\\\\lib\\\\site-packages\\\\bleach-3.2.1.dist-info\\\\METADATA'\n",
      "WARNING: Error parsing requirements for cffi: [Errno 2] No such file or directory: 'c:\\\\users\\\\1430647\\\\anaconda3\\\\lib\\\\site-packages\\\\cffi-1.14.3.dist-info\\\\METADATA'\n",
      "WARNING: Error parsing requirements for chardet: [Errno 2] No such file or directory: 'c:\\\\users\\\\1430647\\\\anaconda3\\\\lib\\\\site-packages\\\\chardet-3.0.4.dist-info\\\\METADATA'\n",
      "WARNING: Error parsing requirements for click: [Errno 2] No such file or directory: 'c:\\\\users\\\\1430647\\\\anaconda3\\\\lib\\\\site-packages\\\\click-7.1.2.dist-info\\\\METADATA'\n",
      "WARNING: Error parsing requirements for cloudpickle: [Errno 2] No such file or directory: 'c:\\\\users\\\\1430647\\\\anaconda3\\\\lib\\\\site-packages\\\\cloudpickle-1.6.0.dist-info\\\\METADATA'\n",
      "WARNING: Error parsing requirements for colorama: [Errno 2] No such file or directory: 'c:\\\\users\\\\1430647\\\\anaconda3\\\\lib\\\\site-packages\\\\colorama-0.4.4.dist-info\\\\METADATA'\n",
      "WARNING: Error parsing requirements for conda-package-handling: [Errno 2] No such file or directory: 'c:\\\\users\\\\1430647\\\\anaconda3\\\\lib\\\\site-packages\\\\conda_package_handling-1.7.2.dist-info\\\\METADATA'\n",
      "WARNING: Error parsing requirements for contextlib2: [Errno 2] No such file or directory: 'c:\\\\users\\\\1430647\\\\anaconda3\\\\lib\\\\site-packages\\\\contextlib2-0.6.0.post1.dist-info\\\\METADATA'\n",
      "WARNING: Error parsing requirements for cryptography: [Errno 2] No such file or directory: 'c:\\\\users\\\\1430647\\\\anaconda3\\\\lib\\\\site-packages\\\\cryptography-3.1.1.dist-info\\\\METADATA'\n",
      "WARNING: Error parsing requirements for dask: [Errno 2] No such file or directory: 'c:\\\\users\\\\1430647\\\\anaconda3\\\\lib\\\\site-packages\\\\dask-2.30.0.dist-info\\\\METADATA'\n",
      "WARNING: Error parsing requirements for decorator: [Errno 2] No such file or directory: 'c:\\\\users\\\\1430647\\\\anaconda3\\\\lib\\\\site-packages\\\\decorator-4.4.2.dist-info\\\\METADATA'\n",
      "WARNING: Error parsing requirements for diff-match-patch: [Errno 2] No such file or directory: 'c:\\\\users\\\\1430647\\\\anaconda3\\\\lib\\\\site-packages\\\\diff_match_patch-20200713.dist-info\\\\METADATA'\n",
      "WARNING: Error parsing requirements for distributed: [Errno 2] No such file or directory: 'c:\\\\users\\\\1430647\\\\anaconda3\\\\lib\\\\site-packages\\\\distributed-2.30.1.dist-info\\\\METADATA'\n",
      "WARNING: Error parsing requirements for docutils: [Errno 2] No such file or directory: 'c:\\\\users\\\\1430647\\\\anaconda3\\\\lib\\\\site-packages\\\\docutils-0.16.dist-info\\\\METADATA'\n",
      "WARNING: Error parsing requirements for fastcache: [Errno 2] No such file or directory: 'c:\\\\users\\\\1430647\\\\anaconda3\\\\lib\\\\site-packages\\\\fastcache-1.1.0.dist-info\\\\METADATA'\n",
      "WARNING: Error parsing requirements for filelock: [Errno 2] No such file or directory: 'c:\\\\users\\\\1430647\\\\anaconda3\\\\lib\\\\site-packages\\\\filelock-3.0.12.dist-info\\\\METADATA'\n",
      "WARNING: Error parsing requirements for flake8: [Errno 2] No such file or directory: 'c:\\\\users\\\\1430647\\\\anaconda3\\\\lib\\\\site-packages\\\\flake8-3.8.4.dist-info\\\\METADATA'\n",
      "WARNING: Error parsing requirements for fsspec: [Errno 2] No such file or directory: 'c:\\\\users\\\\1430647\\\\anaconda3\\\\lib\\\\site-packages\\\\fsspec-0.8.3.dist-info\\\\METADATA'\n",
      "WARNING: Error parsing requirements for future: [Errno 2] No such file or directory: 'c:\\\\users\\\\1430647\\\\anaconda3\\\\lib\\\\site-packages\\\\future-0.18.2.dist-info\\\\METADATA'\n",
      "WARNING: Error parsing requirements for gevent: [Errno 2] No such file or directory: 'c:\\\\users\\\\1430647\\\\anaconda3\\\\lib\\\\site-packages\\\\gevent-20.9.0.dist-info\\\\METADATA'\n",
      "WARNING: Error parsing requirements for greenlet: [Errno 2] No such file or directory: 'c:\\\\users\\\\1430647\\\\anaconda3\\\\lib\\\\site-packages\\\\greenlet-0.4.17.dist-info\\\\METADATA'\n",
      "WARNING: Error parsing requirements for html5lib: [Errno 2] No such file or directory: 'c:\\\\users\\\\1430647\\\\anaconda3\\\\lib\\\\site-packages\\\\html5lib-1.1.dist-info\\\\METADATA'\n",
      "WARNING: Error parsing requirements for idna: [Errno 2] No such file or directory: 'c:\\\\users\\\\1430647\\\\anaconda3\\\\lib\\\\site-packages\\\\idna-2.10.dist-info\\\\METADATA'\n",
      "WARNING: Error parsing requirements for imagesize: [Errno 2] No such file or directory: 'c:\\\\users\\\\1430647\\\\anaconda3\\\\lib\\\\site-packages\\\\imagesize-1.2.0.dist-info\\\\METADATA'\n",
      "WARNING: Error parsing requirements for importlib-metadata: [Errno 2] No such file or directory: 'c:\\\\users\\\\1430647\\\\anaconda3\\\\lib\\\\site-packages\\\\importlib_metadata-2.0.0.dist-info\\\\METADATA'\n",
      "WARNING: Error parsing requirements for iniconfig: [Errno 2] No such file or directory: 'c:\\\\users\\\\1430647\\\\anaconda3\\\\lib\\\\site-packages\\\\iniconfig-1.1.1.dist-info\\\\METADATA'\n",
      "WARNING: Error parsing requirements for intervaltree: [Errno 2] No such file or directory: 'c:\\\\users\\\\1430647\\\\anaconda3\\\\lib\\\\site-packages\\\\intervaltree-3.1.0.dist-info\\\\METADATA'\n",
      "WARNING: Error parsing requirements for ipykernel: [Errno 2] No such file or directory: 'c:\\\\users\\\\1430647\\\\anaconda3\\\\lib\\\\site-packages\\\\ipykernel-5.3.4.dist-info\\\\METADATA'\n",
      "WARNING: Error parsing requirements for ipython: [Errno 2] No such file or directory: 'c:\\\\users\\\\1430647\\\\anaconda3\\\\lib\\\\site-packages\\\\ipython-7.19.0.dist-info\\\\METADATA'\n",
      "WARNING: Error parsing requirements for isort: [Errno 2] No such file or directory: 'c:\\\\users\\\\1430647\\\\anaconda3\\\\lib\\\\site-packages\\\\isort-5.6.4.dist-info\\\\METADATA'\n",
      "WARNING: Error parsing requirements for itsdangerous: [Errno 2] No such file or directory: 'c:\\\\users\\\\1430647\\\\anaconda3\\\\lib\\\\site-packages\\\\itsdangerous-1.1.0.dist-info\\\\METADATA'\n",
      "WARNING: Error parsing requirements for jdcal: [Errno 2] No such file or directory: 'c:\\\\users\\\\1430647\\\\anaconda3\\\\lib\\\\site-packages\\\\jdcal-1.4.1.dist-info\\\\METADATA'\n",
      "WARNING: Error parsing requirements for jedi: [Errno 2] No such file or directory: 'c:\\\\users\\\\1430647\\\\anaconda3\\\\lib\\\\site-packages\\\\jedi-0.17.1.dist-info\\\\METADATA'\n",
      "WARNING: Error parsing requirements for joblib: [Errno 2] No such file or directory: 'c:\\\\users\\\\1430647\\\\anaconda3\\\\lib\\\\site-packages\\\\joblib-0.17.0.dist-info\\\\METADATA'\n",
      "WARNING: Error parsing requirements for json5: [Errno 2] No such file or directory: 'c:\\\\users\\\\1430647\\\\anaconda3\\\\lib\\\\site-packages\\\\json5-0.9.5.dist-info\\\\METADATA'\n",
      "WARNING: Error parsing requirements for jsonschema: [Errno 2] No such file or directory: 'c:\\\\users\\\\1430647\\\\anaconda3\\\\lib\\\\site-packages\\\\jsonschema-3.2.0.dist-info\\\\METADATA'\n",
      "WARNING: Error parsing requirements for jupyter-client: [Errno 2] No such file or directory: 'c:\\\\users\\\\1430647\\\\anaconda3\\\\lib\\\\site-packages\\\\jupyter_client-6.1.7.dist-info\\\\METADATA'\n",
      "WARNING: Error parsing requirements for jupyter-console: [Errno 2] No such file or directory: 'c:\\\\users\\\\1430647\\\\anaconda3\\\\lib\\\\site-packages\\\\jupyter_console-6.2.0.dist-info\\\\METADATA'\n",
      "WARNING: Error parsing requirements for jupyter-core: [Errno 2] No such file or directory: 'c:\\\\users\\\\1430647\\\\anaconda3\\\\lib\\\\site-packages\\\\jupyter_core-4.6.3.dist-info\\\\METADATA'\n",
      "WARNING: Error parsing requirements for keyring: [Errno 2] No such file or directory: 'c:\\\\users\\\\1430647\\\\anaconda3\\\\lib\\\\site-packages\\\\keyring-21.4.0.dist-info\\\\METADATA'\n",
      "WARNING: Error parsing requirements for kiwisolver: [Errno 2] No such file or directory: 'c:\\\\users\\\\1430647\\\\anaconda3\\\\lib\\\\site-packages\\\\kiwisolver-1.3.0.dist-info\\\\METADATA'\n",
      "WARNING: Error parsing requirements for lazy-object-proxy: [Errno 2] No such file or directory: 'c:\\\\users\\\\1430647\\\\anaconda3\\\\lib\\\\site-packages\\\\lazy_object_proxy-1.4.3.dist-info\\\\METADATA'\n",
      "WARNING: Error parsing requirements for lxml: [Errno 2] No such file or directory: 'c:\\\\users\\\\1430647\\\\anaconda3\\\\lib\\\\site-packages\\\\lxml-4.6.1.dist-info\\\\METADATA'\n",
      "WARNING: Error parsing requirements for mock: [Errno 2] No such file or directory: 'c:\\\\users\\\\1430647\\\\anaconda3\\\\lib\\\\site-packages\\\\mock-4.0.2.dist-info\\\\METADATA'\n",
      "WARNING: Error parsing requirements for msgpack: [Errno 2] No such file or directory: 'c:\\\\users\\\\1430647\\\\anaconda3\\\\lib\\\\site-packages\\\\msgpack-1.0.0.dist-info\\\\METADATA'\n",
      "WARNING: Error parsing requirements for multipledispatch: [Errno 2] No such file or directory: 'c:\\\\users\\\\1430647\\\\anaconda3\\\\lib\\\\site-packages\\\\multipledispatch-0.6.0.dist-info\\\\METADATA'\n",
      "WARNING: Error parsing requirements for nbclient: [Errno 2] No such file or directory: 'c:\\\\users\\\\1430647\\\\anaconda3\\\\lib\\\\site-packages\\\\nbclient-0.5.1.dist-info\\\\METADATA'\n",
      "WARNING: Error parsing requirements for nbconvert: [Errno 2] No such file or directory: 'c:\\\\users\\\\1430647\\\\anaconda3\\\\lib\\\\site-packages\\\\nbconvert-6.0.7.dist-info\\\\METADATA'\n",
      "WARNING: Error parsing requirements for nbformat: [Errno 2] No such file or directory: 'c:\\\\users\\\\1430647\\\\anaconda3\\\\lib\\\\site-packages\\\\nbformat-5.0.8.dist-info\\\\METADATA'\n",
      "WARNING: Error parsing requirements for nest-asyncio: [Errno 2] No such file or directory: 'c:\\\\users\\\\1430647\\\\anaconda3\\\\lib\\\\site-packages\\\\nest_asyncio-1.4.2.dist-info\\\\METADATA'\n",
      "WARNING: Error parsing requirements for networkx: [Errno 2] No such file or directory: 'c:\\\\users\\\\1430647\\\\anaconda3\\\\lib\\\\site-packages\\\\networkx-2.5.dist-info\\\\METADATA'\n",
      "WARNING: Error parsing requirements for nltk: [Errno 2] No such file or directory: 'c:\\\\users\\\\1430647\\\\anaconda3\\\\lib\\\\site-packages\\\\nltk-3.5.dist-info\\\\METADATA'\n",
      "WARNING: Error parsing requirements for notebook: [Errno 2] No such file or directory: 'c:\\\\users\\\\1430647\\\\anaconda3\\\\lib\\\\site-packages\\\\notebook-6.1.4.dist-info\\\\METADATA'\n",
      "WARNING: Error parsing requirements for numpydoc: [Errno 2] No such file or directory: 'c:\\\\users\\\\1430647\\\\anaconda3\\\\lib\\\\site-packages\\\\numpydoc-1.1.0.dist-info\\\\METADATA'\n",
      "WARNING: Error parsing requirements for olefile: [Errno 2] No such file or directory: 'c:\\\\users\\\\1430647\\\\anaconda3\\\\lib\\\\site-packages\\\\olefile-0.46.dist-info\\\\METADATA'\n",
      "WARNING: Error parsing requirements for openpyxl: [Errno 2] No such file or directory: 'c:\\\\users\\\\1430647\\\\anaconda3\\\\lib\\\\site-packages\\\\openpyxl-3.0.5.dist-info\\\\METADATA'\n",
      "WARNING: Error parsing requirements for packaging: [Errno 2] No such file or directory: 'c:\\\\users\\\\1430647\\\\anaconda3\\\\lib\\\\site-packages\\\\packaging-20.4.dist-info\\\\METADATA'\n",
      "WARNING: Error parsing requirements for pandocfilters: [Errno 2] No such file or directory: 'c:\\\\users\\\\1430647\\\\anaconda3\\\\lib\\\\site-packages\\\\pandocfilters-1.4.3.dist-info\\\\METADATA'\n",
      "WARNING: Error parsing requirements for paramiko: [Errno 2] No such file or directory: 'c:\\\\users\\\\1430647\\\\anaconda3\\\\lib\\\\site-packages\\\\paramiko-2.7.2.dist-info\\\\METADATA'\n",
      "WARNING: Error parsing requirements for parso: [Errno 2] No such file or directory: 'c:\\\\users\\\\1430647\\\\anaconda3\\\\lib\\\\site-packages\\\\parso-0.7.0.dist-info\\\\METADATA'\n",
      "WARNING: Error parsing requirements for partd: [Errno 2] No such file or directory: 'c:\\\\users\\\\1430647\\\\anaconda3\\\\lib\\\\site-packages\\\\partd-1.1.0.dist-info\\\\METADATA'\n",
      "WARNING: Error parsing requirements for path: [Errno 2] No such file or directory: 'c:\\\\users\\\\1430647\\\\anaconda3\\\\lib\\\\site-packages\\\\path-15.0.0.dist-info\\\\METADATA'\n",
      "WARNING: Error parsing requirements for pathlib2: [Errno 2] No such file or directory: 'c:\\\\users\\\\1430647\\\\anaconda3\\\\lib\\\\site-packages\\\\pathlib2-2.3.5.dist-info\\\\METADATA'\n",
      "WARNING: Error parsing requirements for pathtools: [Errno 2] No such file or directory: 'c:\\\\users\\\\1430647\\\\anaconda3\\\\lib\\\\site-packages\\\\pathtools-0.1.2.dist-info\\\\METADATA'\n",
      "WARNING: Error parsing requirements for pexpect: [Errno 2] No such file or directory: 'c:\\\\users\\\\1430647\\\\anaconda3\\\\lib\\\\site-packages\\\\pexpect-4.8.0.dist-info\\\\METADATA'\n",
      "WARNING: Error parsing requirements for pluggy: [Errno 2] No such file or directory: 'c:\\\\users\\\\1430647\\\\anaconda3\\\\lib\\\\site-packages\\\\pluggy-0.13.1.dist-info\\\\METADATA'\n",
      "WARNING: Error parsing requirements for psutil: [Errno 2] No such file or directory: 'c:\\\\users\\\\1430647\\\\anaconda3\\\\lib\\\\site-packages\\\\psutil-5.7.2.dist-info\\\\METADATA'\n",
      "WARNING: Error parsing requirements for py: [Errno 2] No such file or directory: 'c:\\\\users\\\\1430647\\\\anaconda3\\\\lib\\\\site-packages\\\\py-1.9.0.dist-info\\\\METADATA'\n",
      "WARNING: Error parsing requirements for pyopenssl: [Errno 2] No such file or directory: 'c:\\\\users\\\\1430647\\\\anaconda3\\\\lib\\\\site-packages\\\\pyOpenSSL-19.1.0.dist-info\\\\METADATA'\n",
      "WARNING: Error parsing requirements for pycodestyle: [Errno 2] No such file or directory: 'c:\\\\users\\\\1430647\\\\anaconda3\\\\lib\\\\site-packages\\\\pycodestyle-2.6.0.dist-info\\\\METADATA'\n",
      "WARNING: Error parsing requirements for pycparser: [Errno 2] No such file or directory: 'c:\\\\users\\\\1430647\\\\anaconda3\\\\lib\\\\site-packages\\\\pycparser-2.20.dist-info\\\\METADATA'\n",
      "WARNING: Error parsing requirements for pydocstyle: [Errno 2] No such file or directory: 'c:\\\\users\\\\1430647\\\\anaconda3\\\\lib\\\\site-packages\\\\pydocstyle-5.1.1.dist-info\\\\METADATA'\n",
      "WARNING: Error parsing requirements for pyflakes: [Errno 2] No such file or directory: 'c:\\\\users\\\\1430647\\\\anaconda3\\\\lib\\\\site-packages\\\\pyflakes-2.2.0.dist-info\\\\METADATA'\n",
      "WARNING: Error parsing requirements for pylint: [Errno 2] No such file or directory: 'c:\\\\users\\\\1430647\\\\anaconda3\\\\lib\\\\site-packages\\\\pylint-2.6.0.dist-info\\\\METADATA'\n",
      "WARNING: Error parsing requirements for pyodbc: [Errno 2] No such file or directory: 'c:\\\\users\\\\1430647\\\\anaconda3\\\\lib\\\\site-packages\\\\pyodbc-4.0.0_unsupported.dist-info\\\\METADATA'\n",
      "WARNING: Error parsing requirements for pyparsing: [Errno 2] No such file or directory: 'c:\\\\users\\\\1430647\\\\anaconda3\\\\lib\\\\site-packages\\\\pyparsing-2.4.7.dist-info\\\\METADATA'\n",
      "WARNING: Error parsing requirements for pyrsistent: [Errno 2] No such file or directory: 'c:\\\\users\\\\1430647\\\\anaconda3\\\\lib\\\\site-packages\\\\pyrsistent-0.17.3.dist-info\\\\METADATA'\n",
      "WARNING: Error parsing requirements for python-dateutil: [Errno 2] No such file or directory: 'c:\\\\users\\\\1430647\\\\anaconda3\\\\lib\\\\site-packages\\\\python_dateutil-2.8.1.dist-info\\\\METADATA'\n",
      "WARNING: Error parsing requirements for python-jsonrpc-server: [Errno 2] No such file or directory: 'c:\\\\users\\\\1430647\\\\anaconda3\\\\lib\\\\site-packages\\\\python_jsonrpc_server-0.4.0.dist-info\\\\METADATA'\n",
      "WARNING: Error parsing requirements for python-language-server: [Errno 2] No such file or directory: 'c:\\\\users\\\\1430647\\\\anaconda3\\\\lib\\\\site-packages\\\\python_language_server-0.35.1.dist-info\\\\METADATA'\n",
      "WARNING: Error parsing requirements for pytz: [Errno 2] No such file or directory: 'c:\\\\users\\\\1430647\\\\anaconda3\\\\lib\\\\site-packages\\\\pytz-2020.1.dist-info\\\\METADATA'\n",
      "WARNING: Error parsing requirements for pywinpty: [Errno 2] No such file or directory: 'c:\\\\users\\\\1430647\\\\anaconda3\\\\lib\\\\site-packages\\\\pywinpty-0.5.7.dist-info\\\\METADATA'\n",
      "WARNING: Error parsing requirements for qtconsole: [Errno 2] No such file or directory: 'c:\\\\users\\\\1430647\\\\anaconda3\\\\lib\\\\site-packages\\\\qtconsole-4.7.7.dist-info\\\\METADATA'\n",
      "WARNING: Error parsing requirements for regex: [Errno 2] No such file or directory: 'c:\\\\users\\\\1430647\\\\anaconda3\\\\lib\\\\site-packages\\\\regex-2020.10.15.dist-info\\\\METADATA'\n",
      "WARNING: Error parsing requirements for rope: [Errno 2] No such file or directory: 'c:\\\\users\\\\1430647\\\\anaconda3\\\\lib\\\\site-packages\\\\rope-0.18.0.dist-info\\\\METADATA'\n",
      "WARNING: Error parsing requirements for singledispatch: [Errno 2] No such file or directory: 'c:\\\\users\\\\1430647\\\\anaconda3\\\\lib\\\\site-packages\\\\singledispatch-3.4.0.3.dist-info\\\\METADATA'\n",
      "WARNING: Error parsing requirements for sip: [Errno 2] No such file or directory: 'c:\\\\users\\\\1430647\\\\anaconda3\\\\lib\\\\site-packages\\\\sip-4.19.13.dist-info\\\\METADATA'\n",
      "WARNING: Error parsing requirements for six: [Errno 2] No such file or directory: 'c:\\\\users\\\\1430647\\\\anaconda3\\\\lib\\\\site-packages\\\\six-1.15.0.dist-info\\\\METADATA'\n",
      "WARNING: Error parsing requirements for snowballstemmer: [Errno 2] No such file or directory: 'c:\\\\users\\\\1430647\\\\anaconda3\\\\lib\\\\site-packages\\\\snowballstemmer-2.0.0.dist-info\\\\METADATA'\n",
      "WARNING: Error parsing requirements for sortedcollections: [Errno 2] No such file or directory: 'c:\\\\users\\\\1430647\\\\anaconda3\\\\lib\\\\site-packages\\\\sortedcollections-1.2.1.dist-info\\\\METADATA'\n",
      "WARNING: Error parsing requirements for sortedcontainers: [Errno 2] No such file or directory: 'c:\\\\users\\\\1430647\\\\anaconda3\\\\lib\\\\site-packages\\\\sortedcontainers-2.2.2.dist-info\\\\METADATA'\n",
      "WARNING: Error parsing requirements for soupsieve: [Errno 2] No such file or directory: 'c:\\\\users\\\\1430647\\\\anaconda3\\\\lib\\\\site-packages\\\\soupsieve-2.0.1.dist-info\\\\METADATA'\n",
      "WARNING: Error parsing requirements for sphinxcontrib-applehelp: [Errno 2] No such file or directory: 'c:\\\\users\\\\1430647\\\\anaconda3\\\\lib\\\\site-packages\\\\sphinxcontrib_applehelp-1.0.2.dist-info\\\\METADATA'\n",
      "WARNING: Error parsing requirements for sphinxcontrib-devhelp: [Errno 2] No such file or directory: 'c:\\\\users\\\\1430647\\\\anaconda3\\\\lib\\\\site-packages\\\\sphinxcontrib_devhelp-1.0.2.dist-info\\\\METADATA'\n",
      "WARNING: Error parsing requirements for sphinxcontrib-htmlhelp: [Errno 2] No such file or directory: 'c:\\\\users\\\\1430647\\\\anaconda3\\\\lib\\\\site-packages\\\\sphinxcontrib_htmlhelp-1.0.3.dist-info\\\\METADATA'\n",
      "WARNING: Error parsing requirements for sphinxcontrib-jsmath: [Errno 2] No such file or directory: 'c:\\\\users\\\\1430647\\\\anaconda3\\\\lib\\\\site-packages\\\\sphinxcontrib_jsmath-1.0.1.dist-info\\\\METADATA'\n",
      "WARNING: Error parsing requirements for sphinxcontrib-qthelp: [Errno 2] No such file or directory: 'c:\\\\users\\\\1430647\\\\anaconda3\\\\lib\\\\site-packages\\\\sphinxcontrib_qthelp-1.0.3.dist-info\\\\METADATA'\n",
      "WARNING: Error parsing requirements for sphinxcontrib-serializinghtml: [Errno 2] No such file or directory: 'c:\\\\users\\\\1430647\\\\anaconda3\\\\lib\\\\site-packages\\\\sphinxcontrib_serializinghtml-1.1.4.dist-info\\\\METADATA'\n",
      "WARNING: Error parsing requirements for sphinxcontrib-websupport: [Errno 2] No such file or directory: 'c:\\\\users\\\\1430647\\\\anaconda3\\\\lib\\\\site-packages\\\\sphinxcontrib_websupport-1.2.4.dist-info\\\\METADATA'\n",
      "WARNING: Error parsing requirements for spyder-kernels: [Errno 2] No such file or directory: 'c:\\\\users\\\\1430647\\\\anaconda3\\\\lib\\\\site-packages\\\\spyder_kernels-1.9.4.dist-info\\\\METADATA'\n",
      "WARNING: Error parsing requirements for sympy: [Errno 2] No such file or directory: 'c:\\\\users\\\\1430647\\\\anaconda3\\\\lib\\\\site-packages\\\\sympy-1.6.2.dist-info\\\\METADATA'\n",
      "WARNING: Error parsing requirements for tblib: [Errno 2] No such file or directory: 'c:\\\\users\\\\1430647\\\\anaconda3\\\\lib\\\\site-packages\\\\tblib-1.7.0.dist-info\\\\METADATA'\n",
      "WARNING: Error parsing requirements for testpath: [Errno 2] No such file or directory: 'c:\\\\users\\\\1430647\\\\anaconda3\\\\lib\\\\site-packages\\\\testpath-0.4.4.dist-info\\\\METADATA'\n",
      "WARNING: Error parsing requirements for threadpoolctl: [Errno 2] No such file or directory: 'c:\\\\users\\\\1430647\\\\anaconda3\\\\lib\\\\site-packages\\\\threadpoolctl-2.1.0.dist-info\\\\METADATA'\n",
      "WARNING: Error parsing requirements for toml: [Errno 2] No such file or directory: 'c:\\\\users\\\\1430647\\\\anaconda3\\\\lib\\\\site-packages\\\\toml-0.10.1.dist-info\\\\METADATA'\n",
      "WARNING: Error parsing requirements for toolz: [Errno 2] No such file or directory: 'c:\\\\users\\\\1430647\\\\anaconda3\\\\lib\\\\site-packages\\\\toolz-0.11.1.dist-info\\\\METADATA'\n",
      "WARNING: Error parsing requirements for tornado: [Errno 2] No such file or directory: 'c:\\\\users\\\\1430647\\\\anaconda3\\\\lib\\\\site-packages\\\\tornado-6.0.4.dist-info\\\\METADATA'\n",
      "WARNING: Error parsing requirements for tqdm: [Errno 2] No such file or directory: 'c:\\\\users\\\\1430647\\\\anaconda3\\\\lib\\\\site-packages\\\\tqdm-4.50.2.dist-info\\\\METADATA'\n",
      "WARNING: Error parsing requirements for traitlets: [Errno 2] No such file or directory: 'c:\\\\users\\\\1430647\\\\anaconda3\\\\lib\\\\site-packages\\\\traitlets-5.0.5.dist-info\\\\METADATA'\n",
      "WARNING: Error parsing requirements for ujson: [Errno 2] No such file or directory: 'c:\\\\users\\\\1430647\\\\anaconda3\\\\lib\\\\site-packages\\\\ujson-4.0.1.dist-info\\\\METADATA'\n",
      "WARNING: Error parsing requirements for urllib3: [Errno 2] No such file or directory: 'c:\\\\users\\\\1430647\\\\anaconda3\\\\lib\\\\site-packages\\\\urllib3-1.25.11.dist-info\\\\METADATA'\n",
      "WARNING: Error parsing requirements for watchdog: [Errno 2] No such file or directory: 'c:\\\\users\\\\1430647\\\\anaconda3\\\\lib\\\\site-packages\\\\watchdog-0.10.3.dist-info\\\\METADATA'\n",
      "WARNING: Error parsing requirements for wrapt: [Errno 2] No such file or directory: 'c:\\\\users\\\\1430647\\\\anaconda3\\\\lib\\\\site-packages\\\\wrapt-1.11.2.dist-info\\\\METADATA'\n",
      "WARNING: Error parsing requirements for xlrd: [Errno 2] No such file or directory: 'c:\\\\users\\\\1430647\\\\anaconda3\\\\lib\\\\site-packages\\\\xlrd-1.2.0.dist-info\\\\METADATA'\n",
      "WARNING: Error parsing requirements for xmltodict: [Errno 2] No such file or directory: 'c:\\\\users\\\\1430647\\\\anaconda3\\\\lib\\\\site-packages\\\\xmltodict-0.12.0.dist-info\\\\METADATA'\n",
      "WARNING: Error parsing requirements for yapf: [Errno 2] No such file or directory: 'c:\\\\users\\\\1430647\\\\anaconda3\\\\lib\\\\site-packages\\\\yapf-0.30.0.dist-info\\\\METADATA'\n",
      "WARNING: Error parsing requirements for zope-interface: [Errno 2] No such file or directory: 'c:\\\\users\\\\1430647\\\\anaconda3\\\\lib\\\\site-packages\\\\zope.interface-5.1.2.dist-info\\\\METADATA'\n"
     ]
    },
    {
     "name": "stdout",
     "output_type": "stream",
     "text": [
      "----------------------------------------------------------------\n",
      "        Layer (type)               Output Shape         Param #\n",
      "================================================================\n",
      "            Conv2d-1           [-1, 32, 32, 32]           4,704\n",
      "              ReLU-2           [-1, 32, 32, 32]               0\n",
      "       BatchNorm2d-3           [-1, 32, 32, 32]              64\n",
      "           Dropout-4           [-1, 32, 32, 32]               0\n",
      "            Conv2d-5           [-1, 32, 32, 32]           9,216\n",
      "              ReLU-6           [-1, 32, 32, 32]               0\n",
      "       BatchNorm2d-7           [-1, 32, 32, 32]              64\n",
      "           Dropout-8           [-1, 32, 32, 32]               0\n",
      "            Conv2d-9           [-1, 16, 32, 32]             512\n",
      "        MaxPool2d-10           [-1, 16, 16, 16]               0\n",
      "           Conv2d-11           [-1, 32, 16, 16]           4,608\n",
      "             ReLU-12           [-1, 32, 16, 16]               0\n",
      "      BatchNorm2d-13           [-1, 32, 16, 16]              64\n",
      "          Dropout-14           [-1, 32, 16, 16]               0\n",
      "           Conv2d-15           [-1, 32, 16, 16]           9,216\n",
      "             ReLU-16           [-1, 32, 16, 16]               0\n",
      "      BatchNorm2d-17           [-1, 32, 16, 16]              64\n",
      "          Dropout-18           [-1, 32, 16, 16]               0\n",
      "           Conv2d-19           [-1, 16, 16, 16]             512\n",
      "        MaxPool2d-20             [-1, 16, 8, 8]               0\n",
      "           Conv2d-21             [-1, 32, 8, 8]           4,608\n",
      "             ReLU-22             [-1, 32, 8, 8]               0\n",
      "      BatchNorm2d-23             [-1, 32, 8, 8]              64\n",
      "          Dropout-24             [-1, 32, 8, 8]               0\n",
      "           Conv2d-25             [-1, 32, 6, 6]           9,216\n",
      "             ReLU-26             [-1, 32, 6, 6]               0\n",
      "      BatchNorm2d-27             [-1, 32, 6, 6]              64\n",
      "          Dropout-28             [-1, 32, 6, 6]               0\n",
      "           Conv2d-29             [-1, 32, 4, 4]           9,216\n",
      "             ReLU-30             [-1, 32, 4, 4]               0\n",
      "      BatchNorm2d-31             [-1, 32, 4, 4]              64\n",
      "          Dropout-32             [-1, 32, 4, 4]               0\n",
      "        AvgPool2d-33             [-1, 32, 1, 1]               0\n",
      "           Conv2d-34             [-1, 10, 1, 1]             320\n",
      "================================================================\n",
      "Total params: 52,576\n",
      "Trainable params: 52,576\n",
      "Non-trainable params: 0\n",
      "----------------------------------------------------------------\n",
      "Input size (MB): 0.01\n",
      "Forward/backward pass size (MB): 2.81\n",
      "Params size (MB): 0.20\n",
      "Estimated Total Size (MB): 3.02\n",
      "----------------------------------------------------------------\n"
     ]
    }
   ],
   "source": [
    "!pip install torchsummary\n",
    "from torchsummary import summary\n",
    "use_cuda = torch.cuda.is_available()\n",
    "device = torch.device(\"cuda\" if use_cuda else \"cpu\")\n",
    "print(device)\n",
    "model = Net().to(device)\n",
    "summary(model, input_size=(3, 32, 32))"
   ]
  },
  {
   "cell_type": "code",
   "execution_count": 8,
   "metadata": {},
   "outputs": [],
   "source": [
    "from tqdm import tqdm\n",
    "\n",
    "train_losses = []\n",
    "test_losses = []\n",
    "train_acc = []\n",
    "test_acc = []\n",
    "\n",
    "def train(model, device, train_loader, optimizer, epoch):\n",
    "  model.train()\n",
    "  pbar = tqdm(train_loader)\n",
    "  correct = 0\n",
    "  processed = 0\n",
    "  for batch_idx, (data, target) in enumerate(pbar):\n",
    "    # get samples\n",
    "    data, target = data.to(device), target.to(device)\n",
    "\n",
    "    # Init\n",
    "    optimizer.zero_grad()\n",
    "    # In PyTorch, we need to set the gradients to zero before starting to do backpropragation because PyTorch accumulates the gradients on subsequent backward passes. \n",
    "    # Because of this, when you start your training loop, ideally you should zero out the gradients so that you do the parameter update correctly.\n",
    "\n",
    "    # Predict\n",
    "    y_pred = model(data)\n",
    "\n",
    "    # Calculate loss\n",
    "    loss = F.nll_loss(y_pred, target)\n",
    "    train_losses.append(loss)\n",
    "\n",
    "    # Backpropagation\n",
    "    loss.backward()\n",
    "    optimizer.step()\n",
    "\n",
    "    # Update pbar-tqdm\n",
    "    \n",
    "    pred = y_pred.argmax(dim=1, keepdim=True)  # get the index of the max log-probability\n",
    "    correct += pred.eq(target.view_as(pred)).sum().item()\n",
    "    processed += len(data)\n",
    "\n",
    "    pbar.set_description(desc= f'Loss={loss.item()} Batch_id={batch_idx} Accuracy={100*correct/processed:0.2f}')\n",
    "    train_acc.append(100*correct/processed)\n",
    "\n",
    "def test(model, device, test_loader):\n",
    "    model.eval()\n",
    "    test_loss = 0\n",
    "    correct = 0\n",
    "    with torch.no_grad():\n",
    "        for data, target in test_loader:\n",
    "            data, target = data.to(device), target.to(device)\n",
    "            output = model(data)\n",
    "            test_loss += F.nll_loss(output, target, reduction='sum').item()  # sum up batch loss\n",
    "            pred = output.argmax(dim=1, keepdim=True)  # get the index of the max log-probability\n",
    "            correct += pred.eq(target.view_as(pred)).sum().item()\n",
    "\n",
    "    test_loss /= len(test_loader.dataset)\n",
    "    test_losses.append(test_loss)\n",
    "\n",
    "    print('\\nTest set: Average loss: {:.4f}, Accuracy: {}/{} ({:.2f}%)\\n'.format(\n",
    "        test_loss, correct, len(test_loader.dataset),\n",
    "        100. * correct / len(test_loader.dataset)))\n",
    "    \n",
    "    test_acc.append(100. * correct / len(test_loader.dataset))"
   ]
  },
  {
   "cell_type": "code",
   "execution_count": 9,
   "metadata": {},
   "outputs": [
    {
     "name": "stdout",
     "output_type": "stream",
     "text": [
      "EPOCH: 0\n"
     ]
    },
    {
     "name": "stderr",
     "output_type": "stream",
     "text": [
      "Loss=1.6212495565414429 Batch_id=97 Accuracy=32.37: 100%|██████████| 98/98 [00:26<00:00,  3.64it/s]\n"
     ]
    },
    {
     "name": "stdout",
     "output_type": "stream",
     "text": [
      "\n",
      "Test set: Average loss: 1.6154, Accuracy: 3984/10000 (39.84%)\n",
      "\n",
      "EPOCH: 1\n"
     ]
    },
    {
     "name": "stderr",
     "output_type": "stream",
     "text": [
      "Loss=1.3808964490890503 Batch_id=97 Accuracy=45.07: 100%|██████████| 98/98 [00:26<00:00,  3.65it/s]\n"
     ]
    },
    {
     "name": "stdout",
     "output_type": "stream",
     "text": [
      "\n",
      "Test set: Average loss: 1.4599, Accuracy: 4691/10000 (46.91%)\n",
      "\n",
      "EPOCH: 2\n"
     ]
    },
    {
     "name": "stderr",
     "output_type": "stream",
     "text": [
      "Loss=1.3295625448226929 Batch_id=97 Accuracy=50.41: 100%|██████████| 98/98 [00:26<00:00,  3.65it/s]\n"
     ]
    },
    {
     "name": "stdout",
     "output_type": "stream",
     "text": [
      "\n",
      "Test set: Average loss: 1.2403, Accuracy: 5407/10000 (54.07%)\n",
      "\n",
      "EPOCH: 3\n"
     ]
    },
    {
     "name": "stderr",
     "output_type": "stream",
     "text": [
      "Loss=1.2068170309066772 Batch_id=97 Accuracy=54.15: 100%|██████████| 98/98 [00:27<00:00,  3.61it/s]\n"
     ]
    },
    {
     "name": "stdout",
     "output_type": "stream",
     "text": [
      "\n",
      "Test set: Average loss: 1.2157, Accuracy: 5581/10000 (55.81%)\n",
      "\n",
      "EPOCH: 4\n"
     ]
    },
    {
     "name": "stderr",
     "output_type": "stream",
     "text": [
      "Loss=1.1805970668792725 Batch_id=97 Accuracy=57.05: 100%|██████████| 98/98 [00:28<00:00,  3.41it/s]\n"
     ]
    },
    {
     "name": "stdout",
     "output_type": "stream",
     "text": [
      "\n",
      "Test set: Average loss: 1.1208, Accuracy: 5972/10000 (59.72%)\n",
      "\n",
      "EPOCH: 5\n"
     ]
    },
    {
     "name": "stderr",
     "output_type": "stream",
     "text": [
      "Loss=1.0746835470199585 Batch_id=97 Accuracy=59.00: 100%|██████████| 98/98 [00:27<00:00,  3.59it/s]\n"
     ]
    },
    {
     "name": "stdout",
     "output_type": "stream",
     "text": [
      "\n",
      "Test set: Average loss: 1.0200, Accuracy: 6348/10000 (63.48%)\n",
      "\n",
      "EPOCH: 6\n"
     ]
    },
    {
     "name": "stderr",
     "output_type": "stream",
     "text": [
      "Loss=1.0785913467407227 Batch_id=97 Accuracy=60.62: 100%|██████████| 98/98 [00:26<00:00,  3.71it/s]\n"
     ]
    },
    {
     "name": "stdout",
     "output_type": "stream",
     "text": [
      "\n",
      "Test set: Average loss: 1.0384, Accuracy: 6325/10000 (63.25%)\n",
      "\n",
      "EPOCH: 7\n"
     ]
    },
    {
     "name": "stderr",
     "output_type": "stream",
     "text": [
      "Loss=1.0127215385437012 Batch_id=97 Accuracy=61.28: 100%|██████████| 98/98 [00:28<00:00,  3.50it/s]\n"
     ]
    },
    {
     "name": "stdout",
     "output_type": "stream",
     "text": [
      "\n",
      "Test set: Average loss: 1.0260, Accuracy: 6355/10000 (63.55%)\n",
      "\n",
      "EPOCH: 8\n"
     ]
    },
    {
     "name": "stderr",
     "output_type": "stream",
     "text": [
      "Loss=0.93028724193573 Batch_id=97 Accuracy=62.66: 100%|██████████| 98/98 [00:25<00:00,  3.79it/s]  \n"
     ]
    },
    {
     "name": "stdout",
     "output_type": "stream",
     "text": [
      "\n",
      "Test set: Average loss: 0.9364, Accuracy: 6630/10000 (66.30%)\n",
      "\n",
      "EPOCH: 9\n"
     ]
    },
    {
     "name": "stderr",
     "output_type": "stream",
     "text": [
      "Loss=1.1107556819915771 Batch_id=97 Accuracy=63.29: 100%|██████████| 98/98 [00:26<00:00,  3.69it/s]\n"
     ]
    },
    {
     "name": "stdout",
     "output_type": "stream",
     "text": [
      "\n",
      "Test set: Average loss: 0.9624, Accuracy: 6601/10000 (66.01%)\n",
      "\n",
      "EPOCH: 10\n"
     ]
    },
    {
     "name": "stderr",
     "output_type": "stream",
     "text": [
      "Loss=1.0655899047851562 Batch_id=97 Accuracy=64.53: 100%|██████████| 98/98 [00:26<00:00,  3.73it/s]\n"
     ]
    },
    {
     "name": "stdout",
     "output_type": "stream",
     "text": [
      "\n",
      "Test set: Average loss: 0.9180, Accuracy: 6770/10000 (67.70%)\n",
      "\n",
      "EPOCH: 11\n"
     ]
    },
    {
     "name": "stderr",
     "output_type": "stream",
     "text": [
      "Loss=1.0516027212142944 Batch_id=97 Accuracy=65.15: 100%|██████████| 98/98 [00:26<00:00,  3.76it/s]\n"
     ]
    },
    {
     "name": "stdout",
     "output_type": "stream",
     "text": [
      "\n",
      "Test set: Average loss: 0.8948, Accuracy: 6824/10000 (68.24%)\n",
      "\n",
      "EPOCH: 12\n"
     ]
    },
    {
     "name": "stderr",
     "output_type": "stream",
     "text": [
      "Loss=0.9118865728378296 Batch_id=97 Accuracy=65.64: 100%|██████████| 98/98 [00:26<00:00,  3.70it/s]\n"
     ]
    },
    {
     "name": "stdout",
     "output_type": "stream",
     "text": [
      "\n",
      "Test set: Average loss: 0.8536, Accuracy: 6961/10000 (69.61%)\n",
      "\n",
      "EPOCH: 13\n"
     ]
    },
    {
     "name": "stderr",
     "output_type": "stream",
     "text": [
      "Loss=0.9921579957008362 Batch_id=97 Accuracy=66.07: 100%|██████████| 98/98 [00:26<00:00,  3.72it/s]\n"
     ]
    },
    {
     "name": "stdout",
     "output_type": "stream",
     "text": [
      "\n",
      "Test set: Average loss: 0.8634, Accuracy: 6926/10000 (69.26%)\n",
      "\n",
      "EPOCH: 14\n"
     ]
    },
    {
     "name": "stderr",
     "output_type": "stream",
     "text": [
      "Loss=0.8846848607063293 Batch_id=97 Accuracy=66.99: 100%|██████████| 98/98 [00:26<00:00,  3.76it/s]\n"
     ]
    },
    {
     "name": "stdout",
     "output_type": "stream",
     "text": [
      "\n",
      "Test set: Average loss: 0.8211, Accuracy: 7074/10000 (70.74%)\n",
      "\n",
      "EPOCH: 15\n"
     ]
    },
    {
     "name": "stderr",
     "output_type": "stream",
     "text": [
      "Loss=0.9052115082740784 Batch_id=97 Accuracy=67.44: 100%|██████████| 98/98 [00:26<00:00,  3.75it/s]\n"
     ]
    },
    {
     "name": "stdout",
     "output_type": "stream",
     "text": [
      "\n",
      "Test set: Average loss: 0.8125, Accuracy: 7139/10000 (71.39%)\n",
      "\n",
      "EPOCH: 16\n"
     ]
    },
    {
     "name": "stderr",
     "output_type": "stream",
     "text": [
      "Loss=0.8209664225578308 Batch_id=97 Accuracy=67.57: 100%|██████████| 98/98 [00:26<00:00,  3.66it/s]\n"
     ]
    },
    {
     "name": "stdout",
     "output_type": "stream",
     "text": [
      "\n",
      "Test set: Average loss: 0.7990, Accuracy: 7163/10000 (71.63%)\n",
      "\n",
      "EPOCH: 17\n"
     ]
    },
    {
     "name": "stderr",
     "output_type": "stream",
     "text": [
      "Loss=0.8736475110054016 Batch_id=97 Accuracy=68.15: 100%|██████████| 98/98 [00:26<00:00,  3.70it/s]\n"
     ]
    },
    {
     "name": "stdout",
     "output_type": "stream",
     "text": [
      "\n",
      "Test set: Average loss: 0.7875, Accuracy: 7239/10000 (72.39%)\n",
      "\n",
      "EPOCH: 18\n"
     ]
    },
    {
     "name": "stderr",
     "output_type": "stream",
     "text": [
      "Loss=0.8836180567741394 Batch_id=97 Accuracy=68.35: 100%|██████████| 98/98 [00:26<00:00,  3.71it/s]\n"
     ]
    },
    {
     "name": "stdout",
     "output_type": "stream",
     "text": [
      "\n",
      "Test set: Average loss: 0.7803, Accuracy: 7181/10000 (71.81%)\n",
      "\n",
      "EPOCH: 19\n"
     ]
    },
    {
     "name": "stderr",
     "output_type": "stream",
     "text": [
      "Loss=0.8147204518318176 Batch_id=97 Accuracy=69.11: 100%|██████████| 98/98 [00:26<00:00,  3.74it/s]\n"
     ]
    },
    {
     "name": "stdout",
     "output_type": "stream",
     "text": [
      "\n",
      "Test set: Average loss: 0.7598, Accuracy: 7327/10000 (73.27%)\n",
      "\n"
     ]
    }
   ],
   "source": [
    "from torch.optim.lr_scheduler import StepLR\n",
    "\n",
    "model =  Net().to(device)\n",
    "optimizer = optim.SGD(model.parameters(), lr=0.01, momentum=0.9)\n",
    "# scheduler = StepLR(optimizer, step_size=6, gamma=0.1)\n",
    "\n",
    "\n",
    "EPOCHS = 20\n",
    "for epoch in range(EPOCHS):\n",
    "    print(\"EPOCH:\", epoch)\n",
    "    train(model, device, train_loader, optimizer, epoch)\n",
    "    # scheduler.step()\n",
    "    test(model, device, test_loader)"
   ]
  },
  {
   "cell_type": "code",
   "execution_count": 10,
   "metadata": {},
   "outputs": [
    {
     "data": {
      "text/plain": [
       "Net(\n",
       "  (convblock1): Sequential(\n",
       "    (0): Conv2d(3, 32, kernel_size=(7, 7), stride=(1, 1), padding=(3, 3), bias=False)\n",
       "    (1): ReLU()\n",
       "    (2): BatchNorm2d(32, eps=1e-05, momentum=0.1, affine=True, track_running_stats=True)\n",
       "    (3): Dropout(p=0.1, inplace=False)\n",
       "  )\n",
       "  (convblock2): Sequential(\n",
       "    (0): Conv2d(32, 32, kernel_size=(3, 3), stride=(1, 1), padding=(1, 1), bias=False)\n",
       "    (1): ReLU()\n",
       "    (2): BatchNorm2d(32, eps=1e-05, momentum=0.1, affine=True, track_running_stats=True)\n",
       "    (3): Dropout(p=0.1, inplace=False)\n",
       "  )\n",
       "  (convblock3): Sequential(\n",
       "    (0): Conv2d(32, 16, kernel_size=(1, 1), stride=(1, 1), bias=False)\n",
       "  )\n",
       "  (pool1): MaxPool2d(kernel_size=2, stride=2, padding=0, dilation=1, ceil_mode=False)\n",
       "  (convblock4): Sequential(\n",
       "    (0): Conv2d(16, 32, kernel_size=(3, 3), stride=(1, 1), padding=(1, 1), bias=False)\n",
       "    (1): ReLU()\n",
       "    (2): BatchNorm2d(32, eps=1e-05, momentum=0.1, affine=True, track_running_stats=True)\n",
       "    (3): Dropout(p=0.1, inplace=False)\n",
       "  )\n",
       "  (convblock5): Sequential(\n",
       "    (0): Conv2d(32, 32, kernel_size=(3, 3), stride=(1, 1), padding=(1, 1), bias=False)\n",
       "    (1): ReLU()\n",
       "    (2): BatchNorm2d(32, eps=1e-05, momentum=0.1, affine=True, track_running_stats=True)\n",
       "    (3): Dropout(p=0.1, inplace=False)\n",
       "  )\n",
       "  (convblock6): Sequential(\n",
       "    (0): Conv2d(32, 16, kernel_size=(1, 1), stride=(1, 1), bias=False)\n",
       "  )\n",
       "  (pool2): MaxPool2d(kernel_size=2, stride=2, padding=0, dilation=1, ceil_mode=False)\n",
       "  (convblock7): Sequential(\n",
       "    (0): Conv2d(16, 32, kernel_size=(3, 3), stride=(1, 1), padding=(1, 1), bias=False)\n",
       "    (1): ReLU()\n",
       "    (2): BatchNorm2d(32, eps=1e-05, momentum=0.1, affine=True, track_running_stats=True)\n",
       "    (3): Dropout(p=0.1, inplace=False)\n",
       "  )\n",
       "  (convblock8): Sequential(\n",
       "    (0): Conv2d(32, 32, kernel_size=(3, 3), stride=(1, 1), bias=False)\n",
       "    (1): ReLU()\n",
       "    (2): BatchNorm2d(32, eps=1e-05, momentum=0.1, affine=True, track_running_stats=True)\n",
       "    (3): Dropout(p=0.1, inplace=False)\n",
       "  )\n",
       "  (convblock9): Sequential(\n",
       "    (0): Conv2d(32, 32, kernel_size=(3, 3), stride=(1, 1), bias=False)\n",
       "    (1): ReLU()\n",
       "    (2): BatchNorm2d(32, eps=1e-05, momentum=0.1, affine=True, track_running_stats=True)\n",
       "    (3): Dropout(p=0.1, inplace=False)\n",
       "  )\n",
       "  (gap): Sequential(\n",
       "    (0): AvgPool2d(kernel_size=4, stride=4, padding=0)\n",
       "  )\n",
       "  (convblock10): Sequential(\n",
       "    (0): Conv2d(32, 10, kernel_size=(1, 1), stride=(1, 1), bias=False)\n",
       "  )\n",
       "  (dropout): Dropout(p=0.1, inplace=False)\n",
       ")"
      ]
     },
     "execution_count": 10,
     "metadata": {},
     "output_type": "execute_result"
    }
   ],
   "source": [
    "model"
   ]
  },
  {
   "cell_type": "code",
   "execution_count": 11,
   "metadata": {},
   "outputs": [
    {
     "name": "stdout",
     "output_type": "stream",
     "text": [
      "Total convolution layers: 10\n",
      "conv_layers\n"
     ]
    }
   ],
   "source": [
    "# we will save the conv layer weights in this list\n",
    "model_weights =[]\n",
    "#we will save the 49 conv layers in this list\n",
    "conv_layers = []\n",
    "# get all the model children as list\n",
    "model_children = list(model.children())\n",
    "#counter to keep count of the conv layers\n",
    "counter = 0\n",
    "#append all the conv layers and their respective wights to the list\n",
    "\n",
    "model_children = model.children()\n",
    "for children in model_children:\n",
    "    if type(children) == nn.Sequential:\n",
    "        for child in children:\n",
    "            if type(child) == nn.Conv2d:\n",
    "                counter += 1\n",
    "                model_weights.append(child.weight)\n",
    "                conv_layers.append(child)\n",
    "\n",
    "print(f\"Total convolution layers: {counter}\")\n",
    "print(\"conv_layers\")"
   ]
  },
  {
   "cell_type": "code",
   "execution_count": 12,
   "metadata": {},
   "outputs": [
    {
     "name": "stderr",
     "output_type": "stream",
     "text": [
      "Clipping input data to the valid range for imshow with RGB data ([0..1] for floats or [0..255] for integers).\n"
     ]
    },
    {
     "data": {
      "image/png": "[encoded data removed]",
      "text/plain": [
       "<Figure size 640x480 with 1 Axes>"
      ]
     },
     "metadata": {},
     "output_type": "display_data"
    }
   ],
   "source": [
    "# get some random training images\n",
    "dataiter = iter(train_loader)\n",
    "images, labels = next(dataiter)\n",
    "imshow(torchvision.utils.make_grid(images[:10]))"
   ]
  },
  {
   "cell_type": "code",
   "execution_count": 13,
   "metadata": {},
   "outputs": [
    {
     "name": "stderr",
     "output_type": "stream",
     "text": [
      "Clipping input data to the valid range for imshow with RGB data ([0..1] for floats or [0..255] for integers).\n"
     ]
    },
    {
     "data": {
      "image/png": "[encoded data removed]",
      "text/plain": [
       "<Figure size 640x480 with 1 Axes>"
      ]
     },
     "metadata": {},
     "output_type": "display_data"
    }
   ],
   "source": [
    "image = images[9]\n",
    "imshow(image)"
   ]
  },
  {
   "cell_type": "code",
   "execution_count": 14,
   "metadata": {},
   "outputs": [],
   "source": [
    "image = image.unsqueeze(0)\n",
    "image = image.to(device)"
   ]
  },
  {
   "cell_type": "code",
   "execution_count": 15,
   "metadata": {},
   "outputs": [
    {
     "name": "stdout",
     "output_type": "stream",
     "text": [
      "10\n",
      "torch.Size([1, 32, 32, 32])\n",
      "torch.Size([1, 32, 32, 32])\n",
      "torch.Size([1, 16, 32, 32])\n",
      "torch.Size([1, 32, 32, 32])\n",
      "torch.Size([1, 32, 32, 32])\n",
      "torch.Size([1, 16, 32, 32])\n",
      "torch.Size([1, 32, 32, 32])\n",
      "torch.Size([1, 32, 30, 30])\n",
      "torch.Size([1, 32, 28, 28])\n",
      "torch.Size([1, 10, 28, 28])\n"
     ]
    }
   ],
   "source": [
    "outputs = []\n",
    "names = []\n",
    "for layer in conv_layers[0:]:\n",
    "    image = layer(image)\n",
    "    outputs.append(image)\n",
    "    names.append(str(layer))\n",
    "print(len(outputs))\n",
    "#print feature_maps\n",
    "for feature_map in outputs:\n",
    "    print(feature_map.shape)"
   ]
  },
  {
   "cell_type": "code",
   "execution_count": 16,
   "metadata": {},
   "outputs": [
    {
     "name": "stdout",
     "output_type": "stream",
     "text": [
      "(32, 32)\n",
      "(32, 32)\n",
      "(32, 32)\n",
      "(32, 32)\n",
      "(32, 32)\n",
      "(32, 32)\n",
      "(32, 32)\n",
      "(30, 30)\n",
      "(28, 28)\n",
      "(28, 28)\n"
     ]
    }
   ],
   "source": [
    "processed = []\n",
    "for feature_map in outputs:\n",
    "    feature_map = feature_map.squeeze(0)\n",
    "    gray_scale = torch.sum(feature_map,0)\n",
    "    # gray_scale = feature_map[0]\n",
    "    gray_scale = gray_scale / feature_map.shape[0]\n",
    "    processed.append(gray_scale.data.cpu().numpy())\n",
    "for fm in processed:\n",
    "    print(fm.shape)"
   ]
  },
  {
   "cell_type": "code",
   "execution_count": 17,
   "metadata": {},
   "outputs": [
    {
     "data": {
      "image/png": "[encoded data removed]",
      "text/plain": [
       "<Figure size 600x1000 with 10 Axes>"
      ]
     },
     "metadata": {},
     "output_type": "display_data"
    }
   ],
   "source": [
    "fig = plt.figure(figsize=(6, 10))\n",
    "for i in range(len(processed)):\n",
    "    a = fig.add_subplot(5, 4, i+1)\n",
    "    imgplot = plt.imshow(processed[i])\n",
    "    a.axis(\"off\")\n",
    "    a.set_title(names[i].split('(')[0], fontsize=10)\n",
    "plt.savefig(str('feature_maps.jpg'), bbox_inches='tight')"
   ]
  },
  {
   "cell_type": "code",
   "execution_count": 18,
   "metadata": {},
   "outputs": [
    {
     "data": {
      "image/png": "[encoded data removed]",
      "text/plain": [
       "<Figure size 500x400 with 32 Axes>"
      ]
     },
     "metadata": {},
     "output_type": "display_data"
    }
   ],
   "source": [
    "# visualize the first conv layer filters\n",
    "plt.figure(figsize=(5, 4))\n",
    "first_layer_weights = model_weights[0].cpu()\n",
    "for i, filter in enumerate(first_layer_weights):\n",
    "    plt.subplot(8, 8, i+1) # (8, 8) because in conv0 we have 7x7 filters and total of 64 (see printed shapes)\n",
    "    plt.imshow(filter[0, :, :].detach(), cmap='gray')\n",
    "    plt.axis('off')\n",
    "plt.show()"
   ]
  },
  {
   "cell_type": "code",
   "execution_count": null,
   "metadata": {},
   "outputs": [],
   "source": []
  }
 ],
 "metadata": {
  "kernelspec": {
   "display_name": "base",
   "language": "python",
   "name": "python3"
  },
  "language_info": {
   "codemirror_mode": {
    "name": "ipython",
    "version": 3
   },
   "file_extension": ".py",
   "mimetype": "text/x-python",
   "name": "python",
   "nbconvert_exporter": "python",
   "pygments_lexer": "ipython3",
   "version": "3.10.13"
  },
  "orig_nbformat": 4
 },
 "nbformat": 4,
 "nbformat_minor": 2
}
